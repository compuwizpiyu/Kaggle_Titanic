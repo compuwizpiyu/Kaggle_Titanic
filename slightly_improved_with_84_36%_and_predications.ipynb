{
 "cells": [
  {
   "cell_type": "code",
   "execution_count": 1,
   "metadata": {},
   "outputs": [
    {
     "name": "stderr",
     "output_type": "stream",
     "text": [
      "C:\\Users\\kgopalu\\AppData\\Local\\Continuum\\anaconda3\\lib\\site-packages\\sklearn\\preprocessing\\label.py:219: DataConversionWarning: A column-vector y was passed when a 1d array was expected. Please change the shape of y to (n_samples, ), for example using ravel().\n",
      "  y = column_or_1d(y, warn=True)\n",
      "C:\\Users\\kgopalu\\AppData\\Local\\Continuum\\anaconda3\\lib\\site-packages\\sklearn\\preprocessing\\label.py:252: DataConversionWarning: A column-vector y was passed when a 1d array was expected. Please change the shape of y to (n_samples, ), for example using ravel().\n",
      "  y = column_or_1d(y, warn=True)\n"
     ]
    },
    {
     "name": "stdout",
     "output_type": "stream",
     "text": [
      "XGboost_ac: 83.80%\n",
      "[[97 13]\n",
      " [16 53]]\n"
     ]
    }
   ],
   "source": [
    "import numpy as np \n",
    "import pandas as pd \n",
    "import matplotlib.pyplot as plt\n",
    "import seaborn as sns \n",
    "import matplotlib.pyplot as plt\n",
    "%matplotlib inline\n",
    "data = pd.read_csv((\"C:/Users/kgopalu/Desktop/Kaggle_Titanic/train.csv\"))\n",
    "testing_predictions = pd.read_csv((\"C:/Users/kgopalu/Desktop/Kaggle_Titanic/test.csv\"))\n",
    "for i in data:\n",
    "    data['Initial']=data.Name.str.extract('([A-Za-z]+)\\.')\n",
    "\n",
    "data.head()\n",
    "data['Age'] = data.groupby('Initial')['Age'].apply(lambda x: x.fillna(x.mean()))\n",
    "data['NewSibSp'] = 5 # let something more than 5 be 5 (others)\n",
    "\n",
    "data.loc[(data.SibSp.values == 0),'NewSibSp']= 0\n",
    "data.loc[(data.SibSp.values == 1),'NewSibSp']= 1\n",
    "data.loc[(data.SibSp.values == 2),'NewSibSp']= 2\n",
    "data.loc[(data.SibSp.values == 3),'NewSibSp']= 3\n",
    "data.loc[(data.SibSp.values == 4),'NewSibSp']= 4\n",
    "\n",
    "data['NewParch'] = 3 # let something more than 3 be 3 (others)\n",
    "\n",
    "data.loc[(data.Parch.values == 0),'NewParch']= 0\n",
    "data.loc[(data.Parch.values == 1),'NewParch']= 1\n",
    "data.loc[(data.Parch.values == 2),'NewParch']= 2\n",
    "\n",
    "data['Agroup'] = 1\n",
    "\n",
    "data.loc[(data.Age.values < 24.0),'Agroup']= 0\n",
    "data.loc[(data.Age.values > 30.0),'Agroup']= 2\n",
    "\n",
    "\n",
    "data['Fgroup'] = 1\n",
    "\n",
    "data.loc[(data.Fare.values >10),'Fgroup']= 2\n",
    "data.loc[(data.Fare.values >25),'Fgroup']= 3\n",
    "data.loc[(data.Fare.values >50),'Fgroup']= 4\n",
    "data.loc[(data.Fare.values >75),'Fgroup']= 5\n",
    "\n",
    "data = data.drop(['PassengerId'], axis = 1)\n",
    "data = data.drop(['Age'], axis = 1)\n",
    "data = data.drop(['Parch'], axis = 1)\n",
    "data = data.drop(['SibSp'], axis = 1)\n",
    "data = data.drop(['Fare'], axis = 1)\n",
    "data = data.drop(['Name'], axis = 1)\n",
    "data = data.drop(['Ticket'], axis = 1)\n",
    "data = data.drop(['Cabin'], axis = 1)\n",
    "data=pd.get_dummies(data)\n",
    "data.head()\n",
    "\n",
    "X = data.drop(['Survived'], axis = 1)\n",
    "#X = data[['Pclass','Agroup','NewSibSp','NewParch','Fgroup']]\n",
    "y = data[['Survived']]\n",
    "from sklearn.model_selection import train_test_split\n",
    "X_train, X_test, y_train, y_test = train_test_split(X, y, test_size = 0.2, random_state=0)\n",
    "\n",
    "from numpy import loadtxt\n",
    "from xgboost import XGBClassifier\n",
    "from sklearn.model_selection import train_test_split\n",
    "from sklearn.metrics import accuracy_score\n",
    "from sklearn.metrics import confusion_matrix\n",
    "\n",
    "model = XGBClassifier()\n",
    "model.fit(X_train, y_train)\n",
    "XGboost_pred=model.predict(X_test)\n",
    "XGboost_cm=confusion_matrix(y_test,XGboost_pred)\n",
    "XGboost_ac=accuracy_score(XGboost_pred,y_test)\n",
    "print(\"XGboost_ac: %.2f%%\" % (XGboost_ac * 100.0))\n",
    "print(XGboost_cm)"
   ]
  },
  {
   "cell_type": "code",
   "execution_count": 12,
   "metadata": {},
   "outputs": [
    {
     "name": "stdout",
     "output_type": "stream",
     "text": [
      "XGboost_ac: 84.36%\n",
      "[[99 11]\n",
      " [17 52]]\n"
     ]
    }
   ],
   "source": [
    "import numpy as np \n",
    "import pandas as pd \n",
    "import matplotlib.pyplot as plt\n",
    "import seaborn as sns \n",
    "import matplotlib.pyplot as plt\n",
    "%matplotlib inline\n",
    "data = pd.read_csv((\"C:/Users/kgopalu/Desktop/Kaggle_Titanic/train.csv\"))\n",
    "testing_predictions = pd.read_csv((\"C:/Users/kgopalu/Desktop/Kaggle_Titanic/test.csv\"))\n",
    "\n",
    "data = data.drop(['PassengerId'], axis = 1)\n",
    "data = data.drop(['Name'], axis = 1)\n",
    "data = data.drop(['Ticket'], axis = 1)\n",
    "data = data.drop(['Cabin'], axis = 1)\n",
    "\n",
    "data=pd.get_dummies(data)\n",
    "\n",
    "\n",
    "X = data.drop(['Survived'], axis = 1)\n",
    "#X = data[['Pclass','Agroup','NewSibSp','NewParch','Fgroup']]\n",
    "y = data[['Survived']]\n",
    "from sklearn.model_selection import train_test_split\n",
    "X_train, X_test, y_train, y_test = train_test_split(X, y, test_size = 0.2, random_state=0)\n",
    "\n",
    "from numpy import loadtxt\n",
    "from xgboost import XGBClassifier\n",
    "from sklearn.model_selection import train_test_split\n",
    "from sklearn.metrics import accuracy_score\n",
    "from sklearn.metrics import confusion_matrix\n",
    "\n",
    "model = XGBClassifier()\n",
    "model.fit(X_train, y_train)\n",
    "XGboost_pred=model.predict(X_test)\n",
    "XGboost_cm=confusion_matrix(y_test,XGboost_pred)\n",
    "XGboost_ac=accuracy_score(XGboost_pred,y_test)\n",
    "print(\"XGboost_ac: %.2f%%\" % (XGboost_ac * 100.0))\n",
    "print(XGboost_cm)"
   ]
  },
  {
   "cell_type": "code",
   "execution_count": 13,
   "metadata": {},
   "outputs": [],
   "source": [
    "data = pd.read_csv((\"C:/Users/kgopalu/Desktop/Kaggle_Titanic/test.csv\"))\n",
    "data = data.drop(['PassengerId'], axis = 1)\n",
    "data = data.drop(['Name'], axis = 1)\n",
    "data = data.drop(['Ticket'], axis = 1)\n",
    "data = data.drop(['Cabin'], axis = 1)\n",
    "data=pd.get_dummies(data)\n",
    "XGboost_pred_val=model.predict(X_test)"
   ]
  },
  {
   "cell_type": "code",
   "execution_count": 14,
   "metadata": {},
   "outputs": [
    {
     "data": {
      "text/plain": [
       "array([0, 0, 0, 1, 0, 0, 1, 1, 1, 1, 0, 1, 0, 1, 1, 1, 0, 0, 0, 1, 0, 1,\n",
       "       0, 0, 0, 1, 0, 1, 1, 0, 0, 1, 0, 0, 0, 1, 0, 0, 0, 0, 0, 1, 0, 0,\n",
       "       1, 0, 0, 1, 0, 0, 0, 0, 1, 0, 0, 0, 0, 0, 0, 0, 0, 0, 1, 0, 1, 0,\n",
       "       1, 0, 1, 1, 1, 0, 1, 0, 0, 1, 1, 1, 0, 0, 0, 1, 1, 0, 0, 1, 1, 0,\n",
       "       1, 1, 0, 0, 1, 1, 0, 0, 1, 0, 0, 1, 0, 0, 0, 0, 0, 1, 1, 0, 0, 1,\n",
       "       0, 1, 1, 0, 1, 1, 0, 1, 0, 1, 0, 0, 0, 0, 0, 0, 0, 0, 0, 0, 1, 0,\n",
       "       0, 0, 0, 0, 0, 0, 0, 0, 0, 1, 0, 1, 1, 0, 0, 1, 1, 0, 0, 0, 0, 0,\n",
       "       1, 0, 0, 0, 1, 1, 0, 0, 1, 0, 0, 0, 0, 0, 0, 0, 0, 1, 0, 0, 1, 0,\n",
       "       1, 0, 1], dtype=int64)"
      ]
     },
     "execution_count": 14,
     "metadata": {},
     "output_type": "execute_result"
    }
   ],
   "source": [
    "XGboost_pred_val"
   ]
  }
 ],
 "metadata": {
  "kernelspec": {
   "display_name": "Python 3",
   "language": "python",
   "name": "python3"
  },
  "language_info": {
   "codemirror_mode": {
    "name": "ipython",
    "version": 3
   },
   "file_extension": ".py",
   "mimetype": "text/x-python",
   "name": "python",
   "nbconvert_exporter": "python",
   "pygments_lexer": "ipython3",
   "version": "3.7.3"
  }
 },
 "nbformat": 4,
 "nbformat_minor": 2
}
