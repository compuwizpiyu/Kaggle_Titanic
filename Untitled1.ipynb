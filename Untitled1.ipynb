{
 "cells": [
  {
   "cell_type": "code",
   "execution_count": 11,
   "metadata": {},
   "outputs": [],
   "source": [
    "import pandas as pd \n",
    "\n",
    "data = pd.read_csv((\"C:/Users/kgopalu/Desktop/Warning_list/ACWI/raw_data.csv\"))"
   ]
  },
  {
   "cell_type": "code",
   "execution_count": 8,
   "metadata": {},
   "outputs": [],
   "source": [
    "data[data['Year']>= 1995][data['Year']<= 1999].to_csv(\"C:/Users/kgopalu/Desktop/Warning_list/USA/New_data/USA_1995_1999.csv\")"
   ]
  },
  {
   "cell_type": "code",
   "execution_count": 12,
   "metadata": {},
   "outputs": [
    {
     "name": "stderr",
     "output_type": "stream",
     "text": [
      "C:\\Users\\kgopalu\\AppData\\Local\\Continuum\\anaconda3\\lib\\site-packages\\ipykernel_launcher.py:2: UserWarning: Boolean Series key will be reindexed to match DataFrame index.\n",
      "  \n",
      "C:\\Users\\kgopalu\\AppData\\Local\\Continuum\\anaconda3\\lib\\site-packages\\ipykernel_launcher.py:3: UserWarning: Boolean Series key will be reindexed to match DataFrame index.\n",
      "  This is separate from the ipykernel package so we can avoid doing imports until\n",
      "C:\\Users\\kgopalu\\AppData\\Local\\Continuum\\anaconda3\\lib\\site-packages\\ipykernel_launcher.py:4: UserWarning: Boolean Series key will be reindexed to match DataFrame index.\n",
      "  after removing the cwd from sys.path.\n",
      "C:\\Users\\kgopalu\\AppData\\Local\\Continuum\\anaconda3\\lib\\site-packages\\ipykernel_launcher.py:5: UserWarning: Boolean Series key will be reindexed to match DataFrame index.\n",
      "  \"\"\"\n",
      "C:\\Users\\kgopalu\\AppData\\Local\\Continuum\\anaconda3\\lib\\site-packages\\ipykernel_launcher.py:6: UserWarning: Boolean Series key will be reindexed to match DataFrame index.\n",
      "  \n",
      "C:\\Users\\kgopalu\\AppData\\Local\\Continuum\\anaconda3\\lib\\site-packages\\ipykernel_launcher.py:7: UserWarning: Boolean Series key will be reindexed to match DataFrame index.\n",
      "  import sys\n",
      "C:\\Users\\kgopalu\\AppData\\Local\\Continuum\\anaconda3\\lib\\site-packages\\ipykernel_launcher.py:8: UserWarning: Boolean Series key will be reindexed to match DataFrame index.\n",
      "  \n",
      "C:\\Users\\kgopalu\\AppData\\Local\\Continuum\\anaconda3\\lib\\site-packages\\ipykernel_launcher.py:9: UserWarning: Boolean Series key will be reindexed to match DataFrame index.\n",
      "  if __name__ == '__main__':\n",
      "C:\\Users\\kgopalu\\AppData\\Local\\Continuum\\anaconda3\\lib\\site-packages\\ipykernel_launcher.py:10: UserWarning: Boolean Series key will be reindexed to match DataFrame index.\n",
      "  # Remove the CWD from sys.path while we load stuff.\n",
      "C:\\Users\\kgopalu\\AppData\\Local\\Continuum\\anaconda3\\lib\\site-packages\\ipykernel_launcher.py:11: UserWarning: Boolean Series key will be reindexed to match DataFrame index.\n",
      "  # This is added back by InteractiveShellApp.init_path()\n",
      "C:\\Users\\kgopalu\\AppData\\Local\\Continuum\\anaconda3\\lib\\site-packages\\ipykernel_launcher.py:12: UserWarning: Boolean Series key will be reindexed to match DataFrame index.\n",
      "  if sys.path[0] == '':\n"
     ]
    }
   ],
   "source": [
    "data[data['Year']>= 2001][data['Year']<= 2005].to_csv(\"C:/Users/kgopalu/Desktop/Warning_list/ACWI/ACWI_2001_2005.csv\")\n",
    "data[data['Year']>= 2002][data['Year']<= 2006].to_csv(\"C:/Users/kgopalu/Desktop/Warning_list/ACWI/ACWI_2002_2006.csv\")\n",
    "data[data['Year']>= 2003][data['Year']<= 2007].to_csv(\"C:/Users/kgopalu/Desktop/Warning_list/ACWI/ACWI_2003_2007.csv\")\n",
    "data[data['Year']>= 2004][data['Year']<= 2008].to_csv(\"C:/Users/kgopalu/Desktop/Warning_list/ACWI/ACWI_2004_2008.csv\")\n",
    "data[data['Year']>= 2005][data['Year']<= 2009].to_csv(\"C:/Users/kgopalu/Desktop/Warning_list/ACWI/ACWI_2005_2009.csv\")\n",
    "data[data['Year']>= 2006][data['Year']<= 2010].to_csv(\"C:/Users/kgopalu/Desktop/Warning_list/ACWI/ACWI_2006_2010.csv\")\n",
    "data[data['Year']>= 2007][data['Year']<= 2011].to_csv(\"C:/Users/kgopalu/Desktop/Warning_list/ACWI/ACWI_2007_2011.csv\")\n",
    "data[data['Year']>= 2008][data['Year']<= 2012].to_csv(\"C:/Users/kgopalu/Desktop/Warning_list/ACWI/ACWI_2008_2012.csv\")\n",
    "data[data['Year']>= 2009][data['Year']<= 2013].to_csv(\"C:/Users/kgopalu/Desktop/Warning_list/ACWI/ACWI_2009_2013.csv\")\n",
    "data[data['Year']>= 2010][data['Year']<= 2014].to_csv(\"C:/Users/kgopalu/Desktop/Warning_list/ACWI/ACWI_2010_2014.csv\")\n",
    "data[data['Year']>= 2011][data['Year']<= 2015].to_csv(\"C:/Users/kgopalu/Desktop/Warning_list/ACWI/ACWI_2011_2015.csv\")\n",
    "data[data['Year']>= 2012][data['Year']<= 2016].to_csv(\"C:/Users/kgopalu/Desktop/Warning_list/ACWI/ACWI_2012_2016.csv\")\n"
   ]
  }
 ],
 "metadata": {
  "kernelspec": {
   "display_name": "Python 3",
   "language": "python",
   "name": "python3"
  },
  "language_info": {
   "codemirror_mode": {
    "name": "ipython",
    "version": 3
   },
   "file_extension": ".py",
   "mimetype": "text/x-python",
   "name": "python",
   "nbconvert_exporter": "python",
   "pygments_lexer": "ipython3",
   "version": "3.7.3"
  }
 },
 "nbformat": 4,
 "nbformat_minor": 2
}
